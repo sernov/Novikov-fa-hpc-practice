{
 "cells": [
  {
   "cell_type": "code",
   "execution_count": 9,
   "id": "6c6eca1b",
   "metadata": {},
   "outputs": [
    {
     "name": "stdout",
     "output_type": "stream",
     "text": [
      "Результат решения простого дифференциального уравнения методом Рунге-Кутты:\n",
      "y(0.0) = 2.0\n",
      "y(0.02) = 1.9603973627090454\n",
      "y(0.04) = 1.9215788841247559\n",
      "y(0.06) = 1.8835290670394897\n",
      "y(0.08) = 1.8462326526641846\n",
      "y(0.1) = 1.8096747398376465\n",
      "y(0.12) = 1.7738407850265503\n",
      "y(0.14) = 1.7387163639068604\n",
      "y(0.16) = 1.7042875289916992\n",
      "y(0.18) = 1.6705403327941895\n"
     ]
    }
   ],
   "source": [
    "import pyopencl as cl\n",
    "import numpy as np\n",
    "\n",
    "# Новые начальные условия и параметры\n",
    "t0 = 0.0  # начальное значение t\n",
    "y0 = 2.0  # новое начальное значение y\n",
    "h = 0.02  # новый шаг интегрирования\n",
    "num_steps = 1000  # новое количество шагов\n",
    "\n",
    "# Инициализация OpenCL контекста и очереди\n",
    "context = cl.create_some_context()\n",
    "queue = cl.CommandQueue(context)\n",
    "\n",
    "# Инициализация массива для хранения результата\n",
    "y = np.zeros(num_steps + 1).astype(np.float32)\n",
    "y[0] = y0\n",
    "\n",
    "# Создание буфера для передачи данных в OpenCL устройство\n",
    "mf = cl.mem_flags\n",
    "buffer_y = cl.Buffer(context, mf.READ_WRITE | mf.COPY_HOST_PTR, hostbuf=y)\n",
    "\n",
    "# Код ядра для метода Рунге-Кутты\n",
    "kernel_code = \"\"\"\n",
    "__kernel void RungeKutta(\n",
    "    __global float* y,\n",
    "    const int num_steps,\n",
    "    const float t0,\n",
    "    const float h)\n",
    "{\n",
    "    float k1, k2, k3, k4;\n",
    "    float yi = y[0];\n",
    "    float t = t0;\n",
    "\n",
    "    for (int i = 0; i < num_steps; ++i)\n",
    "    {\n",
    "        k1 = h * (-yi);\n",
    "        k2 = h * (-(yi + k1 / 2.0f));\n",
    "        k3 = h * (-(yi + k2 / 2.0f));\n",
    "        k4 = h * (-(yi + k3));\n",
    "\n",
    "        yi = yi + (k1 + 2.0f * k2 + 2.0f * k3 + k4) / 6.0f;\n",
    "        y[i+1] = yi;\n",
    "        t = t + h;\n",
    "    }\n",
    "}\n",
    "\"\"\"\n",
    "\n",
    "# Сборка и запуск программы OpenCL\n",
    "program = cl.Program(context, kernel_code).build()\n",
    "RungeKutta_kernel = program.RungeKutta\n",
    "RungeKutta_kernel.set_args(buffer_y, np.int32(num_steps), np.float32(t0), np.float32(h))\n",
    "\n",
    "global_size = (num_steps,)\n",
    "cl.enqueue_nd_range_kernel(queue, RungeKutta_kernel, global_size, None).wait()\n",
    "\n",
    "# Получение результата с устройства\n",
    "cl.enqueue_copy(queue, y, buffer_y).wait()\n",
    "\n",
    "# Вывод результатов\n",
    "print(\"Результат решения простого дифференциального уравнения методом Рунге-Кутты:\")\n",
    "for i in range(10):\n",
    "    print(f\"y({t0 + i * h}) = {y[i]}\")\n"
   ]
  },
  {
   "cell_type": "code",
   "execution_count": null,
   "id": "edc75ada",
   "metadata": {},
   "outputs": [],
   "source": []
  }
 ],
 "metadata": {
  "kernelspec": {
   "display_name": "Python 3 (ipykernel)",
   "language": "python",
   "name": "python3"
  },
  "language_info": {
   "codemirror_mode": {
    "name": "ipython",
    "version": 3
   },
   "file_extension": ".py",
   "mimetype": "text/x-python",
   "name": "python",
   "nbconvert_exporter": "python",
   "pygments_lexer": "ipython3",
   "version": "3.8.16"
  }
 },
 "nbformat": 4,
 "nbformat_minor": 5
}
